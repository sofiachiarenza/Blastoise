import pyccl as ccl
import numpy as np
import pylab as plt


# Cosmology definition - adjusted to match blast one
h0 = 0.6727 #0.67
Ob = 0.0492 #071330589849
Odm= 0.2664 #19039780521262
As = np.e**3.047/1e10
ns = 0.9645 #65


nofz = np.load("mynz.npy")
dndz = np.zeros((2,1000))
dndz[0,:] = nofz["z"]
dndz[1,:] = nofz["nz"]


# Cosmology
camb_params = {"camb": {"halofit_version": "takahashi"}}

cosmo = ccl.Cosmology(Omega_c=Odm, Omega_b=Ob, h=h0, A_s=As, n_s=ns, matter_power_spectrum='camb', extra_parameters=camb_params)

# Redshift-dependent functions
#z = np.linspace(0,1.2,1024)
z = np.linspace(0,5,1024)

# Redshift distributions
nz1 = np.interp(z,dndz[0],dndz[1]) #np.exp(-((z-0.5)/0.05)**2/2)
#nz2 = np.exp(-((z-0.65)/0.05)**2/2)

# Bias
#bz = 0.95/ccl|growth_factor(cosmo,1./(1+z))
bz = np.ones_like(z)

# Magnification bias
sz = np.zeros_like(z)
# Intrinsic alignment amplitude
#az = -0.004 * np.ones_like(z)


plt.plot(z, nz1)


cmbl = ccl.CMBLensingTracer(cosmo, z_source=1089.)
cclg = ccl.NumberCountsTracer(cosmo,dndz=(z,nz1),bias=(z,bz),has_rsd=False)
ccls = ccl.tracers.WeakLensingTracer(cosmo, dndz=(z,nz1))


plt.plot(ell_list, cmbl.get_f_ell(ell_list)[0,:])
plt.plot(ell_list, ell_list*(ell_list+1))























ell_list = np.load("ell_list.npy")
blast_gg = np.load("blast_cls/D_gg.npy")
blast_ss = np.load("blast_cls/D_ss.npy")
blast_gs = np.load("blast_cls/D_gs.npy")
blast_gcmbl = np.load("blast_cls/D_gcmbl.npy")
blast_scmbl = np.load("blast_cls/D_scmbl.npy")





ccells = np.linspace(2, 2000, 800)


cl_gg_ccl = ccl.angular_cl(cosmo, cclg, cclg, ccells, l_limber=200, return_meta=True)[0]
cl_ss_ccl = ccl.angular_cl(cosmo, ccls, ccls, ccells, l_limber=200, return_meta=True)[0]
cl_gs_ccl = ccl.angular_cl(cosmo, cclg, ccls, ccells, l_limber=200, return_meta=True)[0]
cl_kg_ccl = ccl.angular_cl(cosmo, cmbl, cclg, ccells, l_limber=200, return_meta=True)[0]
cl_ks_ccl = ccl.angular_cl(cosmo, cmbl, cclg, ccells, l_limber=200, return_meta=True)[0]


plt.plot(ccells, ccells * (ccells +1) * cl_gg_ccl, label="ccl" )
plt.plot(ell_list, blast_gg, label="blast")
plt.xlim((2,200))
plt.ylim((-1e-3,0.015))
plt.legend()
plt.title("galaxy-galaxy")





plt.loglog(ccells, ccells * (ccells +1) * cl_ss_ccl, label="ccl" )
plt.loglog(ell_list, blast_ss, label="blast")
plt.xlim(2,200)
plt.legend()
plt.title("shear-shear")





plt.loglog(ccells, ccells * (ccells +1) * cl_gs_ccl, label="ccl" )
plt.loglog(ell_list, blast_gs, label="blast")
plt.legend()
plt.xlim((2,200))
plt.title("galaxy-galaxy lensing")





plt.loglog(ccells, ccells * (ccells +1) * cl_kg_ccl, label="ccl" )
plt.loglog(ell_list, blast_gcmbl, label="blast")
plt.legend()
plt.xlim((2,200))
plt.title("galaxy-cmb lensing")








plt.loglog(ccells, ccells * (ccells +1) * cl_ks_ccl, label="ccl" )
plt.loglog(ell_list, blast_scmbl, label="blast")
plt.legend()
plt.xlim((2,200))
plt.title("shear-cmb lensing")








ccl_lin_pk = cosmo.get_linear_power()
ccl_nl_pk = cosmo.get_nonlin_power()


k = np.load("k_nl.npz")["arr_0"]
z = np.load("z_nl.npz")["arr_0"]
a = 1/(1+z)


pk_nl_camb = np.load("camb_nl_pk.npz")["arr_0"]


pk_lin_camb = np.load("camb_lin_pk.npz")["arr_0"]


plt.loglog(k, ccl_nl_pk(k, a[0]), label = "non linear")
plt.loglog(k, pk_nl_camb[0,:], label = "linear")
plt.legend()


plt.plot(k, 100*(1-ccl_nl_pk(k, a[0])/pk_nl_camb[0,:]))




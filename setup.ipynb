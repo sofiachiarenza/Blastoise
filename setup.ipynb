{
 "cells": [
  {
   "cell_type": "code",
   "execution_count": 1,
   "metadata": {},
   "outputs": [
    {
     "name": "stderr",
     "output_type": "stream",
     "text": [
      "\u001b[32m\u001b[1m  Activating\u001b[22m\u001b[39m project at `~/Desktop/PhD_Stuff/cheb_bessel_tests-main`\n"
     ]
    }
   ],
   "source": [
    "using Pkg\n",
    "Pkg.activate(\"../cheb_bessel_tests-main\")"
   ]
  },
  {
   "cell_type": "code",
   "execution_count": 2,
   "metadata": {},
   "outputs": [
    {
     "name": "stderr",
     "output_type": "stream",
     "text": [
      "\u001b[36m\u001b[1m[ \u001b[22m\u001b[39m\u001b[36m\u001b[1mInfo: \u001b[22m\u001b[39mPrecompiling DataInterpolations [82cc6244-b520-54b8-b5a6-8a565e85f1d0]\n",
      "\u001b[32m\u001b[1mPrecompiling\u001b[22m\u001b[39m DataInterpolationsChainRulesCoreExt\n",
      "\u001b[32m  ✓ \u001b[39m\u001b[90mDataInterpolations → DataInterpolationsChainRulesCoreExt\u001b[39m\n",
      "  1 dependency successfully precompiled in 3 seconds. 40 already precompiled.\n",
      "\u001b[36m\u001b[1m[ \u001b[22m\u001b[39m\u001b[36m\u001b[1mInfo: \u001b[22m\u001b[39mPrecompiling DataInterpolationsChainRulesCoreExt [187dfacc-d000-5da0-94aa-5ec8eb045cfd]\n",
      "\u001b[33m\u001b[1m┌ \u001b[22m\u001b[39m\u001b[33m\u001b[1mWarning: \u001b[22m\u001b[39mModule DataInterpolations with build ID fafbfcfd-afe2-4f7d-0001-000054e461f4 is missing from the cache.\n",
      "\u001b[33m\u001b[1m│ \u001b[22m\u001b[39mThis may mean DataInterpolations [82cc6244-b520-54b8-b5a6-8a565e85f1d0] does not support precompilation but is imported by a module that does.\n",
      "\u001b[33m\u001b[1m└ \u001b[22m\u001b[39m\u001b[90m@ Base loading.jl:1942\u001b[39m\n",
      "\u001b[36m\u001b[1m[ \u001b[22m\u001b[39m\u001b[36m\u001b[1mInfo: \u001b[22m\u001b[39mSkipping precompilation since __precompile__(false). Importing DataInterpolationsChainRulesCoreExt [187dfacc-d000-5da0-94aa-5ec8eb045cfd].\n"
     ]
    }
   ],
   "source": [
    "using NPZ\n",
    "using Interpolations\n",
    "using DataInterpolations"
   ]
  },
  {
   "cell_type": "code",
   "execution_count": 3,
   "metadata": {},
   "outputs": [
    {
     "data": {
      "text/plain": [
       "\"FKEM/inputs/\""
      ]
     },
     "execution_count": 3,
     "metadata": {},
     "output_type": "execute_result"
    }
   ],
   "source": [
    "output_dir = \"FKEM/inputs/\""
   ]
  },
  {
   "cell_type": "markdown",
   "metadata": {},
   "source": [
    "## Step 1: Power Spectrum"
   ]
  },
  {
   "cell_type": "code",
   "execution_count": 4,
   "metadata": {},
   "outputs": [],
   "source": [
    "k = npzread(\"data/k_nl.npz\")[\"arr_0\"]\n",
    "z = npzread(\"data/z_nl.npz\")[\"arr_0\"]\n",
    "pk_lin = npzread(\"data/camb_lin_pk.npz\")[\"arr_0\"]\n",
    "pk_nl = npzread(\"data/camb_nl_pk.npz\")[\"arr_0\"];"
   ]
  },
  {
   "cell_type": "code",
   "execution_count": 5,
   "metadata": {},
   "outputs": [],
   "source": [
    "data_dict = Dict(\n",
    "    \"k\" => k,\n",
    "    \"z\" => z,\n",
    "    \"pk_lin\" => pk_lin,\n",
    "    \"pk_nl\" => pk_nl\n",
    ")\n",
    "npzwrite(output_dir*\"pk.npz\", data_dict)"
   ]
  },
  {
   "cell_type": "markdown",
   "metadata": {},
   "source": [
    "## Background quantities"
   ]
  },
  {
   "cell_type": "code",
   "execution_count": 6,
   "metadata": {},
   "outputs": [
    {
     "name": "stderr",
     "output_type": "stream",
     "text": [
      "\u001b[32m\u001b[1mPrecompiling\u001b[22m\u001b[39m Blast\n",
      "\u001b[32m  ✓ \u001b[39mBlast\n",
      "  1 dependency successfully precompiled in 16 seconds. 338 already precompiled.\n",
      "\u001b[36m\u001b[1m[ \u001b[22m\u001b[39m\u001b[36m\u001b[1mInfo: \u001b[22m\u001b[39mPrecompiling Blast [aee4e916-1e40-4aff-8d35-b84b50e5d5e3]\n",
      "\u001b[33m\u001b[1m┌ \u001b[22m\u001b[39m\u001b[33m\u001b[1mWarning: \u001b[22m\u001b[39mModule DataInterpolations with build ID fafbfcfd-afe2-4f7d-0001-000054e461f4 is missing from the cache.\n",
      "\u001b[33m\u001b[1m│ \u001b[22m\u001b[39mThis may mean DataInterpolations [82cc6244-b520-54b8-b5a6-8a565e85f1d0] does not support precompilation but is imported by a module that does.\n",
      "\u001b[33m\u001b[1m└ \u001b[22m\u001b[39m\u001b[90m@ Base loading.jl:1942\u001b[39m\n",
      "\u001b[36m\u001b[1m[ \u001b[22m\u001b[39m\u001b[36m\u001b[1mInfo: \u001b[22m\u001b[39mSkipping precompilation since __precompile__(false). Importing Blast [aee4e916-1e40-4aff-8d35-b84b50e5d5e3].\n"
     ]
    }
   ],
   "source": [
    "using Blast"
   ]
  },
  {
   "cell_type": "code",
   "execution_count": 7,
   "metadata": {},
   "outputs": [],
   "source": [
    "z = npzread(\"data/mynz.npy\")[\"z\"]\n",
    "cosmo = Blast.FlatΛCDM()\n",
    "grid = Blast.CosmologicalGrid(z_range=z)\n",
    "bg = Blast.BackgroundQuantities(Hz_array = zeros(length(z)), χz_array=zeros(length(z)))\n",
    "Blast.evaluate_background_quantities!(grid, bg, cosmo)"
   ]
  },
  {
   "cell_type": "code",
   "execution_count": 8,
   "metadata": {},
   "outputs": [],
   "source": [
    "z_of_χ = DataInterpolations.AkimaInterpolation(grid.z_range, bg.χz_array, extrapolate=true);"
   ]
  },
  {
   "cell_type": "code",
   "execution_count": 9,
   "metadata": {},
   "outputs": [],
   "source": [
    "Ez = bg.Hz_array/cosmo.H0\n",
    "chi = bg.χz_array\n",
    "\n",
    "data_dict = Dict(\n",
    "    \"chi\" => chi,\n",
    "    \"z\" => z,\n",
    "    \"Ez\" => Ez\n",
    ")\n",
    "npzwrite(output_dir*\"background.npz\", data_dict)"
   ]
  },
  {
   "cell_type": "markdown",
   "metadata": {},
   "source": [
    "## Kernels"
   ]
  },
  {
   "cell_type": "code",
   "execution_count": 10,
   "metadata": {},
   "outputs": [
    {
     "data": {
      "text/plain": [
       "1×2000 Matrix{Float64}:\n",
       " 0.0  9.54626e-8  1.9104e-7  2.86731e-7  …  0.000491187  0.000491713"
      ]
     },
     "execution_count": 10,
     "metadata": {},
     "output_type": "execute_result"
    }
   ],
   "source": [
    "kernel_cl = npzread(\"data/ccl_gal_kernel_finer.npz\")[\"arr_0\"]\n",
    "kernel_sh = npzread(\"data/ccl_sh_kernel_finer.npz\")[\"arr_0\"]\n",
    "kernel_cmb = npzread(\"data/ccl_cmb_kernel_finer.npz\")[\"arr_0\"]\n",
    "chi_sh = npzread(\"data/chi_finer.npz\")[\"arr_0\"]\n",
    "z_sh = z_of_χ.(chi_sh)\n",
    "kernel_cl = reshape(kernel_cl, 1, 2000)\n",
    "kernel_sh = reshape(kernel_sh, 1, 2000)\n",
    "kernel_cmb = reshape(kernel_cmb, 1, 2000)"
   ]
  },
  {
   "cell_type": "code",
   "execution_count": 11,
   "metadata": {},
   "outputs": [],
   "source": [
    "data_dict = Dict(\n",
    "    \"chi_cl\" => chi_sh,\n",
    "    \"z_cl\" => z_sh,\n",
    "    \"chi_sh\" => chi_sh,\n",
    "    \"z_sh\" => z_sh,\n",
    "    \"kernels_cl\" => kernel_cl,\n",
    "    \"kernels_sh\" => kernel_sh,\n",
    "    \"kernels_cmb\" => kernel_cmb\n",
    ")\n",
    "npzwrite(output_dir*\"kernels.npz\", data_dict)\n"
   ]
  },
  {
   "cell_type": "code",
   "execution_count": null,
   "metadata": {},
   "outputs": [],
   "source": []
  }
 ],
 "metadata": {
  "kernelspec": {
   "display_name": "julia-nthreads8 1.10.0",
   "language": "julia",
   "name": "julia-nthreads8-1.10"
  },
  "language_info": {
   "file_extension": ".jl",
   "mimetype": "application/julia",
   "name": "julia",
   "version": "1.10.0"
  }
 },
 "nbformat": 4,
 "nbformat_minor": 2
}

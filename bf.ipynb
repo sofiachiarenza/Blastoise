{
 "cells": [
  {
   "cell_type": "markdown",
   "metadata": {},
   "source": [
    "# Brute force computation"
   ]
  },
  {
   "cell_type": "code",
   "execution_count": 1,
   "metadata": {
    "tags": []
   },
   "outputs": [
    {
     "name": "stderr",
     "output_type": "stream",
     "text": [
      "\u001b[32m\u001b[1m  Activating\u001b[22m\u001b[39m project at `~/Blastoise`\n"
     ]
    }
   ],
   "source": [
    "using Pkg\n",
    "Pkg.activate(\".\")"
   ]
  },
  {
   "cell_type": "code",
   "execution_count": 3,
   "metadata": {
    "tags": []
   },
   "outputs": [
    {
     "name": "stderr",
     "output_type": "stream",
     "text": [
      "\u001b[36m\u001b[1m[ \u001b[22m\u001b[39m\u001b[36m\u001b[1mInfo: \u001b[22m\u001b[39mPrecompiling Plots [91a5bcdd-55d7-5caf-9e0b-520d859cae80] (cache misses: target mismatch (2))\n",
      "\u001b[91m\u001b[1mERROR: \u001b[22m\u001b[39mLoadError: SystemError: futimes: Permission denied\n",
      "Stacktrace:\n",
      "  [1] \u001b[0m\u001b[1msystemerror\u001b[22m\u001b[0m\u001b[1m(\u001b[22m\u001b[90mp\u001b[39m::\u001b[0mSymbol, \u001b[90merrno\u001b[39m::\u001b[0mInt32; \u001b[90mextrainfo\u001b[39m::\u001b[0mNothing\u001b[0m\u001b[1m)\u001b[22m\n",
      "\u001b[90m    @\u001b[39m \u001b[90mBase\u001b[39m \u001b[90m./\u001b[39m\u001b[90m\u001b[4merror.jl:176\u001b[24m\u001b[39m\n",
      "  [2] \u001b[0m\u001b[1msystemerror\u001b[22m\n",
      "\u001b[90m    @\u001b[39m \u001b[90m./\u001b[39m\u001b[90m\u001b[4merror.jl:175\u001b[24m\u001b[39m\u001b[90m [inlined]\u001b[39m\n",
      "  [3] \u001b[0m\u001b[1mtouch\u001b[22m\n",
      "\u001b[90m    @\u001b[39m \u001b[90m./\u001b[39m\u001b[90m\u001b[4mfilesystem.jl:361\u001b[24m\u001b[39m\u001b[90m [inlined]\u001b[39m\n",
      "  [4] \u001b[0m\u001b[1mtouch\u001b[22m\u001b[0m\u001b[1m(\u001b[22m\u001b[90mpath\u001b[39m::\u001b[0mString\u001b[0m\u001b[1m)\u001b[22m\n",
      "\u001b[90m    @\u001b[39m \u001b[90mBase.Filesystem\u001b[39m \u001b[90m./\u001b[39m\u001b[90m\u001b[4mfile.jl:460\u001b[24m\u001b[39m\n",
      "  [5] \u001b[0m\u001b[1m_require_search_from_serialized\u001b[22m\u001b[0m\u001b[1m(\u001b[22m\u001b[90mpkg\u001b[39m::\u001b[0mBase.PkgId, \u001b[90msourcepath\u001b[39m::\u001b[0mString, \u001b[90mbuild_id\u001b[39m::\u001b[0mUInt128, \u001b[90mstalecheck\u001b[39m::\u001b[0mBool; \u001b[90mreasons\u001b[39m::\u001b[0mDict\u001b[90m{String, Int64}\u001b[39m, \u001b[90mDEPOT_PATH\u001b[39m::\u001b[0mVector\u001b[90m{String}\u001b[39m\u001b[0m\u001b[1m)\u001b[22m\n",
      "\u001b[90m    @\u001b[39m \u001b[90mBase\u001b[39m \u001b[90m./\u001b[39m\u001b[90m\u001b[4mloading.jl:2017\u001b[24m\u001b[39m\n",
      "  [6] \u001b[0m\u001b[1m_require\u001b[22m\u001b[0m\u001b[1m(\u001b[22m\u001b[90mpkg\u001b[39m::\u001b[0mBase.PkgId, \u001b[90menv\u001b[39m::\u001b[0mString\u001b[0m\u001b[1m)\u001b[22m\n",
      "\u001b[90m    @\u001b[39m \u001b[90mBase\u001b[39m \u001b[90m./\u001b[39m\u001b[90m\u001b[4mloading.jl:2527\u001b[24m\u001b[39m\n",
      "  [7] \u001b[0m\u001b[1m__require_prelocked\u001b[22m\u001b[0m\u001b[1m(\u001b[22m\u001b[90muuidkey\u001b[39m::\u001b[0mBase.PkgId, \u001b[90menv\u001b[39m::\u001b[0mString\u001b[0m\u001b[1m)\u001b[22m\n",
      "\u001b[90m    @\u001b[39m \u001b[90mBase\u001b[39m \u001b[90m./\u001b[39m\u001b[90m\u001b[4mloading.jl:2388\u001b[24m\u001b[39m\n",
      "  [8] \u001b[0m\u001b[1m#invoke_in_world#3\u001b[22m\n",
      "\u001b[90m    @\u001b[39m \u001b[90m./\u001b[39m\u001b[90m\u001b[4messentials.jl:1089\u001b[24m\u001b[39m\u001b[90m [inlined]\u001b[39m\n",
      "  [9] \u001b[0m\u001b[1minvoke_in_world\u001b[22m\n",
      "\u001b[90m    @\u001b[39m \u001b[90m./\u001b[39m\u001b[90m\u001b[4messentials.jl:1086\u001b[24m\u001b[39m\u001b[90m [inlined]\u001b[39m\n",
      " [10] \u001b[0m\u001b[1m_require_prelocked\u001b[22m\u001b[0m\u001b[1m(\u001b[22m\u001b[90muuidkey\u001b[39m::\u001b[0mBase.PkgId, \u001b[90menv\u001b[39m::\u001b[0mString\u001b[0m\u001b[1m)\u001b[22m\n",
      "\u001b[90m    @\u001b[39m \u001b[90mBase\u001b[39m \u001b[90m./\u001b[39m\u001b[90m\u001b[4mloading.jl:2375\u001b[24m\u001b[39m\n",
      " [11] \u001b[0m\u001b[1mmacro expansion\u001b[22m\n",
      "\u001b[90m    @\u001b[39m \u001b[90m./\u001b[39m\u001b[90m\u001b[4mloading.jl:2314\u001b[24m\u001b[39m\u001b[90m [inlined]\u001b[39m\n",
      " [12] \u001b[0m\u001b[1mmacro expansion\u001b[22m\n",
      "\u001b[90m    @\u001b[39m \u001b[90m./\u001b[39m\u001b[90m\u001b[4mlock.jl:273\u001b[24m\u001b[39m\u001b[90m [inlined]\u001b[39m\n",
      " [13] \u001b[0m\u001b[1m__require\u001b[22m\u001b[0m\u001b[1m(\u001b[22m\u001b[90minto\u001b[39m::\u001b[0mModule, \u001b[90mmod\u001b[39m::\u001b[0mSymbol\u001b[0m\u001b[1m)\u001b[22m\n",
      "\u001b[90m    @\u001b[39m \u001b[90mBase\u001b[39m \u001b[90m./\u001b[39m\u001b[90m\u001b[4mloading.jl:2271\u001b[24m\u001b[39m\n",
      " [14] \u001b[0m\u001b[1m#invoke_in_world#3\u001b[22m\n",
      "\u001b[90m    @\u001b[39m \u001b[90m./\u001b[39m\u001b[90m\u001b[4messentials.jl:1089\u001b[24m\u001b[39m\u001b[90m [inlined]\u001b[39m\n",
      " [15] \u001b[0m\u001b[1minvoke_in_world\u001b[22m\n",
      "\u001b[90m    @\u001b[39m \u001b[90m./\u001b[39m\u001b[90m\u001b[4messentials.jl:1086\u001b[24m\u001b[39m\u001b[90m [inlined]\u001b[39m\n",
      " [16] \u001b[0m\u001b[1mrequire\u001b[22m\u001b[0m\u001b[1m(\u001b[22m\u001b[90minto\u001b[39m::\u001b[0mModule, \u001b[90mmod\u001b[39m::\u001b[0mSymbol\u001b[0m\u001b[1m)\u001b[22m\n",
      "\u001b[90m    @\u001b[39m \u001b[90mBase\u001b[39m \u001b[90m./\u001b[39m\u001b[90m\u001b[4mloading.jl:2260\u001b[24m\u001b[39m\n",
      " [17] \u001b[0m\u001b[1minclude\u001b[22m\n",
      "\u001b[90m    @\u001b[39m \u001b[90m./\u001b[39m\u001b[90m\u001b[4mBase.jl:557\u001b[24m\u001b[39m\u001b[90m [inlined]\u001b[39m\n",
      " [18] \u001b[0m\u001b[1minclude_package_for_output\u001b[22m\u001b[0m\u001b[1m(\u001b[22m\u001b[90mpkg\u001b[39m::\u001b[0mBase.PkgId, \u001b[90minput\u001b[39m::\u001b[0mString, \u001b[90mdepot_path\u001b[39m::\u001b[0mVector\u001b[90m{String}\u001b[39m, \u001b[90mdl_load_path\u001b[39m::\u001b[0mVector\u001b[90m{String}\u001b[39m, \u001b[90mload_path\u001b[39m::\u001b[0mVector\u001b[90m{String}\u001b[39m, \u001b[90mconcrete_deps\u001b[39m::\u001b[0mVector\u001b[90m{Pair{Base.PkgId, UInt128}}\u001b[39m, \u001b[90msource\u001b[39m::\u001b[0mNothing\u001b[0m\u001b[1m)\u001b[22m\n",
      "\u001b[90m    @\u001b[39m \u001b[90mBase\u001b[39m \u001b[90m./\u001b[39m\u001b[90m\u001b[4mloading.jl:2881\u001b[24m\u001b[39m\n",
      " [19] top-level scope\n",
      "\u001b[90m    @\u001b[39m \u001b[90m\u001b[4mstdin:6\u001b[24m\u001b[39m\n",
      "in expression starting at /home/schiarenza/.julia/packages/Plots/Ec1L1/src/Plots.jl:1\n",
      "in expression starting at stdin:6\n"
     ]
    },
    {
     "ename": "LoadError",
     "evalue": "Failed to precompile Plots [91a5bcdd-55d7-5caf-9e0b-520d859cae80] to \"/home/schiarenza/.julia/compiled/v1.11/Plots/jl_VTh2dZ\".",
     "output_type": "error",
     "traceback": [
      "Failed to precompile Plots [91a5bcdd-55d7-5caf-9e0b-520d859cae80] to \"/home/schiarenza/.julia/compiled/v1.11/Plots/jl_VTh2dZ\".",
      "",
      "Stacktrace:",
      "  [1] error(s::String)",
      "    @ Base ./error.jl:35",
      "  [2] compilecache(pkg::Base.PkgId, path::String, internal_stderr::IO, internal_stdout::IO, keep_loaded_modules::Bool; flags::Cmd, cacheflags::Base.CacheFlags, reasons::Dict{String, Int64}, loadable_exts::Nothing)",
      "    @ Base ./loading.jl:3174",
      "  [3] (::Base.var\"#1110#1111\"{Base.PkgId})()",
      "    @ Base ./loading.jl:2579",
      "  [4] mkpidlock(f::Base.var\"#1110#1111\"{Base.PkgId}, at::String, pid::Int32; kwopts::@Kwargs{stale_age::Int64, wait::Bool})",
      "    @ FileWatching.Pidfile /cm/shared/apps/julia/julia-1.11.2/share/julia/stdlib/v1.11/FileWatching/src/pidfile.jl:95",
      "  [5] #mkpidlock#6",
      "    @ /cm/shared/apps/julia/julia-1.11.2/share/julia/stdlib/v1.11/FileWatching/src/pidfile.jl:90 [inlined]",
      "  [6] trymkpidlock(::Function, ::Vararg{Any}; kwargs::@Kwargs{stale_age::Int64})",
      "    @ FileWatching.Pidfile /cm/shared/apps/julia/julia-1.11.2/share/julia/stdlib/v1.11/FileWatching/src/pidfile.jl:116",
      "  [7] #invokelatest#2",
      "    @ ./essentials.jl:1057 [inlined]",
      "  [8] invokelatest",
      "    @ ./essentials.jl:1052 [inlined]",
      "  [9] maybe_cachefile_lock(f::Base.var\"#1110#1111\"{Base.PkgId}, pkg::Base.PkgId, srcpath::String; stale_age::Int64)",
      "    @ Base ./loading.jl:3698",
      " [10] maybe_cachefile_lock",
      "    @ ./loading.jl:3695 [inlined]",
      " [11] _require(pkg::Base.PkgId, env::String)",
      "    @ Base ./loading.jl:2565",
      " [12] __require_prelocked(uuidkey::Base.PkgId, env::String)",
      "    @ Base ./loading.jl:2388",
      " [13] #invoke_in_world#3",
      "    @ ./essentials.jl:1089 [inlined]",
      " [14] invoke_in_world",
      "    @ ./essentials.jl:1086 [inlined]",
      " [15] _require_prelocked(uuidkey::Base.PkgId, env::String)",
      "    @ Base ./loading.jl:2375",
      " [16] macro expansion",
      "    @ ./loading.jl:2314 [inlined]",
      " [17] macro expansion",
      "    @ ./lock.jl:273 [inlined]",
      " [18] __require(into::Module, mod::Symbol)",
      "    @ Base ./loading.jl:2271",
      " [19] #invoke_in_world#3",
      "    @ ./essentials.jl:1089 [inlined]",
      " [20] invoke_in_world",
      "    @ ./essentials.jl:1086 [inlined]",
      " [21] require(into::Module, mod::Symbol)",
      "    @ Base ./loading.jl:2260"
     ]
    }
   ],
   "source": [
    "using Plots\n",
    "using QuadGK\n",
    "using NPZ\n",
    "using Interpolations\n",
    "using DataInterpolations\n",
    "using LaTeXStrings\n",
    "using FastChebInterp\n",
    "using Tullio\n",
    "using SpecialFunctions\n",
    "using ProgressMeter\n",
    "using Blast"
   ]
  },
  {
   "cell_type": "code",
   "execution_count": 3,
   "metadata": {},
   "outputs": [],
   "source": [
    "pk_lin = npzread(\"data/camb_lin_pk.npz\")[\"arr_0\"]\n",
    "p0lin = pk_lin[1,:]\n",
    "z = npzread(\"data/z_nl.npz\")[\"arr_0\"]\n",
    "k = npzread(\"data/k_nl.npz\")[\"arr_0\"];"
   ]
  },
  {
   "cell_type": "code",
   "execution_count": 4,
   "metadata": {},
   "outputs": [],
   "source": [
    "chi_finer = npzread(\"data/chi_finer.npz\")[\"arr_0\"]\n",
    "cmb_kernel = npzread(\"data/ccl_cmb_kernel_finer.npz\")[\"arr_0\"]\n",
    "gal_kernel = npzread(\"data/ccl_gal_kernel_finer.npz\")[\"arr_0\"]\n",
    "sh_kernel = npzread(\"data/ccl_sh_kernel_finer.npz\")[\"arr_0\"]\n",
    "growth = npzread(\"data/growth_finer.npy\");"
   ]
  },
  {
   "cell_type": "markdown",
   "metadata": {},
   "source": [
    "## Inner χ integrals"
   ]
  },
  {
   "cell_type": "code",
   "execution_count": 5,
   "metadata": {},
   "outputs": [],
   "source": [
    "D_chi = AkimaInterpolation(growth, chi_finer, extrapolate=true)\n",
    "K_g = AkimaInterpolation(gal_kernel, chi_finer, extrapolate=true)\n",
    "K_s = AkimaInterpolation(sh_kernel, chi_finer, extrapolate=true)\n",
    "K_cmb = AkimaInterpolation(cmb_kernel, chi_finer, extrapolate=true);\n"
   ]
  },
  {
   "cell_type": "code",
   "execution_count": 6,
   "metadata": {},
   "outputs": [
    {
     "data": {
      "text/plain": [
       "factor_cmb (generic function with 1 method)"
      ]
     },
     "execution_count": 6,
     "metadata": {},
     "output_type": "execute_result"
    }
   ],
   "source": [
    "function f_g(x, k, l)\n",
    "    return @. D_chi(x)*K_g(x)*SpecialFunctions.sphericalbesselj.(l, x * k)\n",
    "end\n",
    "\n",
    "function f_s(x, k, l)\n",
    "    return @. D_chi(x)*K_s(x)*SpecialFunctions.sphericalbesselj.(l, x * k)/(k*x)^2\n",
    "end\n",
    "\n",
    "function f_cmb(x, k, l)\n",
    "    return @. D_chi(x)*K_cmb(x)*SpecialFunctions.sphericalbesselj.(l, x * k)/(k*x)^2\n",
    "end\n",
    "\n",
    "function factor_g(ell)\n",
    "    return ones(size(ell))\n",
    "end\n",
    "\n",
    "function factor_s(ell)\n",
    "    return @. sqrt((ell-1)*ell*(ell+1)*(ell+2))\n",
    "end\n",
    "\n",
    "function factor_cmb(ell)\n",
    "    return @. ell*(ell+1)\n",
    "end"
   ]
  },
  {
   "cell_type": "code",
   "execution_count": 7,
   "metadata": {},
   "outputs": [
    {
     "data": {
      "text/plain": [
       "5-element Vector{Float64}:\n",
       "  10.0\n",
       "  50.0\n",
       " 100.0\n",
       " 150.0\n",
       " 200.0"
      ]
     },
     "execution_count": 7,
     "metadata": {},
     "output_type": "execute_result"
    }
   ],
   "source": [
    "brute_ell = [10., 50., 100., 150., 200.]"
   ]
  },
  {
   "cell_type": "code",
   "execution_count": 13,
   "metadata": {},
   "outputs": [
    {
     "data": {
      "text/plain": [
       "5×200 Matrix{Float64}:\n",
       " 1.23594e-8    2.09426e-8    3.54508e-8    …  -1.9569e-18   -1.63982e-18\n",
       " 1.66504e-66   2.42492e-65   3.53055e-64      -2.02959e-18  -9.93984e-19\n",
       " 1.08788e-157  2.3156e-155   4.92798e-153      2.26386e-18  -1.054e-18\n",
       " 5.03865e-256  1.56609e-252  4.86684e-249     -2.62806e-18   4.44709e-18\n",
       " 0.0           0.0           0.0               3.12957e-18  -9.12602e-18"
      ]
     },
     "execution_count": 13,
     "metadata": {},
     "output_type": "execute_result"
    }
   ],
   "source": [
    "if isfile(\"brute_force/I_g.npy\")\n",
    "    G_l_k = npzread(\"brute_force/I_g.npy\")\n",
    "else\n",
    "    G_l_k = zeros(length(brute_ell), length(k))\n",
    "\n",
    "    println(\"Computing Galaxy inner intergral...\") ; flush(stdout)\n",
    "    for (l_idx, l) in enumerate(brute_ell)\n",
    "        println(\"Processing ℓ = $l\") ; flush(stdout)\n",
    "        @showprogress Threads.@threads for i in 1:length(k)\n",
    "            integral, error = quadgk(x -> f_g(x, k[i], l), chi_finer[1], chi_finer[end])\n",
    "            G_l_k[l_idx, i] = integral\n",
    "        end\n",
    "    end\n",
    "    npzwrite(\"brute_force/I_g.npy\", G_l_k)\n",
    "end"
   ]
  },
  {
   "cell_type": "code",
   "execution_count": 14,
   "metadata": {},
   "outputs": [
    {
     "data": {
      "text/plain": [
       "5×200 Matrix{Float64}:\n",
       " 6.34773e-11   9.68673e-11   1.47715e-10   …  4.14307e-12  3.72176e-12\n",
       " 4.34336e-70   5.68329e-69   7.43459e-68      3.91617e-13  3.518e-13\n",
       " 8.41826e-162  1.60968e-159  3.07738e-157     1.39427e-13  1.25253e-13\n",
       " 2.44389e-260  6.82381e-257  1.90502e-253     7.60542e-14  6.8324e-14\n",
       " 0.0           0.0           0.0              4.94416e-14  4.44172e-14"
      ]
     },
     "execution_count": 14,
     "metadata": {},
     "output_type": "execute_result"
    }
   ],
   "source": [
    "if isfile(\"brute_force/I_s.npy\")\n",
    "    S_l_k = npzread(\"brute_force/I_s.npy\")\n",
    "else\n",
    "    S_l_k = zeros(length(brute_ell), length(k))\n",
    "\n",
    "    println(\"Computing Shear inner intergral...\"); flush(stdout)\n",
    "    for (l_idx, l) in enumerate(brute_ell)\n",
    "        println(\"Processing ℓ = $l\"); flush(stdout)\n",
    "        @showprogress Threads.@threads for i in 1:length(k)\n",
    "            integral, error = quadgk(x -> f_s(x, k[i], l), chi_finer[1], chi_finer[end])\n",
    "            S_l_k[l_idx, i] = integral\n",
    "        end\n",
    "    end\n",
    "    npzwrite(\"brute_force/I_s.npy\", S_l_k)\n",
    "end"
   ]
  },
  {
   "cell_type": "code",
   "execution_count": 15,
   "metadata": {},
   "outputs": [
    {
     "data": {
      "text/plain": [
       "5×200 Matrix{Float64}:\n",
       " 2.56252e-8    3.87045e-8    5.83489e-8    …  4.14204e-12  3.72082e-12\n",
       " 4.50969e-61   5.88955e-60   7.68785e-59      3.91671e-13  3.51838e-13\n",
       " 2.91622e-147  5.57239e-145  1.06452e-142     1.39513e-13  1.25324e-13\n",
       " 1.44653e-244  4.03875e-241  1.12744e-237     7.61376e-14  6.83938e-14\n",
       " 0.0           0.0           0.0              4.95195e-14  4.44827e-14"
      ]
     },
     "execution_count": 15,
     "metadata": {},
     "output_type": "execute_result"
    }
   ],
   "source": [
    "if isfile(\"brute_force/I_cmb.npy\")\n",
    "    CMB_l_k = npzread(\"brute_force/I_cmb.npy\")\n",
    "else\n",
    "    CMB_l_k = zeros(length(brute_ell), length(k))\n",
    "\n",
    "    println(\"Computing CMB lensing inner intergral...\"); flush(stdout)\n",
    "    for (l_idx, l) in enumerate(brute_ell)\n",
    "        println(\"Processing ℓ = $l\"); flush(stdout)\n",
    "        @showprogress Threads.@threads for i in 1:length(k)\n",
    "            integral, error = quadgk(x -> f_cmb(x, k[i], l), chi_finer[1], chi_finer[end])\n",
    "            CMB_l_k[l_idx, i] = integral\n",
    "        end\n",
    "    end\n",
    "    npzwrite(\"brute_force/I_cmb.npy\", CMB_l_k)\n",
    "end"
   ]
  },
  {
   "cell_type": "code",
   "execution_count": 16,
   "metadata": {},
   "outputs": [],
   "source": [
    "k2_ps = AkimaInterpolation(k .^ 2 .* p0lin, k, extrapolate=true);"
   ]
  },
  {
   "cell_type": "code",
   "execution_count": 17,
   "metadata": {},
   "outputs": [
    {
     "data": {
      "image/svg+xml": [
       "<?xml version=\"1.0\" encoding=\"utf-8\"?>\n",
       "<svg xmlns=\"http://www.w3.org/2000/svg\" xmlns:xlink=\"http://www.w3.org/1999/xlink\" width=\"600\" height=\"400\" viewBox=\"0 0 2400 1600\">\n",
       "<defs>\n",
       "  <clipPath id=\"clip830\">\n",
       "    <rect x=\"0\" y=\"0\" width=\"2400\" height=\"1600\"/>\n",
       "  </clipPath>\n",
       "</defs>\n",
       "<path clip-path=\"url(#clip830)\" d=\"M0 1600 L2400 1600 L2400 8.88178e-14 L0 8.88178e-14  Z\" fill=\"#ffffff\" fill-rule=\"evenodd\" fill-opacity=\"1\"/>\n",
       "<defs>\n",
       "  <clipPath id=\"clip831\">\n",
       "    <rect x=\"480\" y=\"0\" width=\"1681\" height=\"1600\"/>\n",
       "  </clipPath>\n",
       "</defs>\n",
       "<path clip-path=\"url(#clip830)\" d=\"M188.574 1474.16 L2352.76 1474.16 L2352.76 47.2441 L188.574 47.2441  Z\" fill=\"#ffffff\" fill-rule=\"evenodd\" fill-opacity=\"1\"/>\n",
       "<defs>\n",
       "  <clipPath id=\"clip832\">\n",
       "    <rect x=\"188\" y=\"47\" width=\"2165\" height=\"1428\"/>\n",
       "  </clipPath>\n",
       "</defs>\n",
       "<polyline clip-path=\"url(#clip832)\" style=\"stroke:#000000; stroke-linecap:round; stroke-linejoin:round; stroke-width:2; stroke-opacity:0.1; fill:none\" points=\"887.39,1474.16 887.39,47.2441 \"/>\n",
       "<polyline clip-path=\"url(#clip832)\" style=\"stroke:#000000; stroke-linecap:round; stroke-linejoin:round; stroke-width:2; stroke-opacity:0.1; fill:none\" points=\"1768.52,1474.16 1768.52,47.2441 \"/>\n",
       "<polyline clip-path=\"url(#clip832)\" style=\"stroke:#000000; stroke-linecap:round; stroke-linejoin:round; stroke-width:2; stroke-opacity:0.1; fill:none\" points=\"188.574,1419.42 2352.76,1419.42 \"/>\n",
       "<polyline clip-path=\"url(#clip832)\" style=\"stroke:#000000; stroke-linecap:round; stroke-linejoin:round; stroke-width:2; stroke-opacity:0.1; fill:none\" points=\"188.574,635.596 2352.76,635.596 \"/>\n",
       "<polyline clip-path=\"url(#clip830)\" style=\"stroke:#000000; stroke-linecap:round; stroke-linejoin:round; stroke-width:4; stroke-opacity:1; fill:none\" points=\"188.574,1474.16 2352.76,1474.16 \"/>\n",
       "<polyline clip-path=\"url(#clip830)\" style=\"stroke:#000000; stroke-linecap:round; stroke-linejoin:round; stroke-width:4; stroke-opacity:1; fill:none\" points=\"887.39,1474.16 887.39,1455.27 \"/>\n",
       "<polyline clip-path=\"url(#clip830)\" style=\"stroke:#000000; stroke-linecap:round; stroke-linejoin:round; stroke-width:4; stroke-opacity:1; fill:none\" points=\"1768.52,1474.16 1768.52,1455.27 \"/>\n",
       "<path clip-path=\"url(#clip830)\" d=\"M837.656 1548.29 L845.295 1548.29 L845.295 1521.92 L836.985 1523.59 L836.985 1519.33 L845.249 1517.66 L849.924 1517.66 L849.924 1548.29 L857.563 1548.29 L857.563 1552.22 L837.656 1552.22 L837.656 1548.29 Z\" fill=\"#000000\" fill-rule=\"nonzero\" fill-opacity=\"1\" /><path clip-path=\"url(#clip830)\" d=\"M877.008 1520.74 Q873.397 1520.74 871.568 1524.31 Q869.762 1527.85 869.762 1534.98 Q869.762 1542.09 871.568 1545.65 Q873.397 1549.19 877.008 1549.19 Q880.642 1549.19 882.447 1545.65 Q884.276 1542.09 884.276 1534.98 Q884.276 1527.85 882.447 1524.31 Q880.642 1520.74 877.008 1520.74 M877.008 1517.04 Q882.818 1517.04 885.873 1521.65 Q888.952 1526.23 888.952 1534.98 Q888.952 1543.71 885.873 1548.31 Q882.818 1552.9 877.008 1552.9 Q871.198 1552.9 868.119 1548.31 Q865.063 1543.71 865.063 1534.98 Q865.063 1526.23 868.119 1521.65 Q871.198 1517.04 877.008 1517.04 Z\" fill=\"#000000\" fill-rule=\"nonzero\" fill-opacity=\"1\" /><path clip-path=\"url(#clip830)\" d=\"M888.952 1511.14 L913.064 1511.14 L913.064 1514.34 L888.952 1514.34 L888.952 1511.14 Z\" fill=\"#000000\" fill-rule=\"nonzero\" fill-opacity=\"1\" /><path clip-path=\"url(#clip830)\" d=\"M924.536 1521.62 L937.796 1521.62 L937.796 1524.81 L919.966 1524.81 L919.966 1521.62 Q922.129 1519.38 925.853 1515.62 Q929.596 1511.84 930.555 1510.75 Q932.379 1508.7 933.094 1507.29 Q933.827 1505.86 933.827 1504.48 Q933.827 1502.24 932.248 1500.83 Q930.686 1499.42 928.166 1499.42 Q926.38 1499.42 924.386 1500.04 Q922.411 1500.67 920.154 1501.93 L920.154 1498.09 Q922.449 1497.17 924.442 1496.7 Q926.436 1496.23 928.091 1496.23 Q932.454 1496.23 935.05 1498.41 Q937.645 1500.59 937.645 1504.24 Q937.645 1505.97 936.987 1507.53 Q936.348 1509.07 934.636 1511.18 Q934.166 1511.72 931.646 1514.34 Q929.125 1516.93 924.536 1521.62 Z\" fill=\"#000000\" fill-rule=\"nonzero\" fill-opacity=\"1\" /><path clip-path=\"url(#clip830)\" d=\"M1733.5 1548.29 L1741.14 1548.29 L1741.14 1521.92 L1732.83 1523.59 L1732.83 1519.33 L1741.09 1517.66 L1745.77 1517.66 L1745.77 1548.29 L1753.41 1548.29 L1753.41 1552.22 L1733.5 1552.22 L1733.5 1548.29 Z\" fill=\"#000000\" fill-rule=\"nonzero\" fill-opacity=\"1\" /><path clip-path=\"url(#clip830)\" d=\"M1772.85 1520.74 Q1769.24 1520.74 1767.41 1524.31 Q1765.61 1527.85 1765.61 1534.98 Q1765.61 1542.09 1767.41 1545.65 Q1769.24 1549.19 1772.85 1549.19 Q1776.49 1549.19 1778.29 1545.65 Q1780.12 1542.09 1780.12 1534.98 Q1780.12 1527.85 1778.29 1524.31 Q1776.49 1520.74 1772.85 1520.74 M1772.85 1517.04 Q1778.66 1517.04 1781.72 1521.65 Q1784.8 1526.23 1784.8 1534.98 Q1784.8 1543.71 1781.72 1548.31 Q1778.66 1552.9 1772.85 1552.9 Q1767.04 1552.9 1763.96 1548.31 Q1760.91 1543.71 1760.91 1534.98 Q1760.91 1526.23 1763.96 1521.65 Q1767.04 1517.04 1772.85 1517.04 Z\" fill=\"#000000\" fill-rule=\"nonzero\" fill-opacity=\"1\" /><path clip-path=\"url(#clip830)\" d=\"M1794.5 1499.24 Q1791.57 1499.24 1790.08 1502.13 Q1788.61 1505.01 1788.61 1510.8 Q1788.61 1516.58 1790.08 1519.47 Q1791.57 1522.35 1794.5 1522.35 Q1797.45 1522.35 1798.92 1519.47 Q1800.41 1516.58 1800.41 1510.8 Q1800.41 1505.01 1798.92 1502.13 Q1797.45 1499.24 1794.5 1499.24 M1794.5 1496.23 Q1799.22 1496.23 1801.71 1499.97 Q1804.21 1503.69 1804.21 1510.8 Q1804.21 1517.89 1801.71 1521.64 Q1799.22 1525.36 1794.5 1525.36 Q1789.78 1525.36 1787.28 1521.64 Q1784.8 1517.89 1784.8 1510.8 Q1784.8 1503.69 1787.28 1499.97 Q1789.78 1496.23 1794.5 1496.23 Z\" fill=\"#000000\" fill-rule=\"nonzero\" fill-opacity=\"1\" /><polyline clip-path=\"url(#clip830)\" style=\"stroke:#000000; stroke-linecap:round; stroke-linejoin:round; stroke-width:4; stroke-opacity:1; fill:none\" points=\"188.574,1474.16 188.574,47.2441 \"/>\n",
       "<polyline clip-path=\"url(#clip830)\" style=\"stroke:#000000; stroke-linecap:round; stroke-linejoin:round; stroke-width:4; stroke-opacity:1; fill:none\" points=\"188.574,1419.42 207.472,1419.42 \"/>\n",
       "<polyline clip-path=\"url(#clip830)\" style=\"stroke:#000000; stroke-linecap:round; stroke-linejoin:round; stroke-width:4; stroke-opacity:1; fill:none\" points=\"188.574,635.596 207.472,635.596 \"/>\n",
       "<path clip-path=\"url(#clip830)\" d=\"M51.6634 1439.21 L59.3023 1439.21 L59.3023 1412.85 L50.9921 1414.51 L50.9921 1410.26 L59.256 1408.59 L63.9319 1408.59 L63.9319 1439.21 L71.5707 1439.21 L71.5707 1443.15 L51.6634 1443.15 L51.6634 1439.21 Z\" fill=\"#000000\" fill-rule=\"nonzero\" fill-opacity=\"1\" /><path clip-path=\"url(#clip830)\" d=\"M91.0151 1411.67 Q87.404 1411.67 85.5753 1415.23 Q83.7697 1418.77 83.7697 1425.9 Q83.7697 1433.01 85.5753 1436.58 Q87.404 1440.12 91.0151 1440.12 Q94.6493 1440.12 96.4548 1436.58 Q98.2835 1433.01 98.2835 1425.9 Q98.2835 1418.77 96.4548 1415.23 Q94.6493 1411.67 91.0151 1411.67 M91.0151 1407.96 Q96.8252 1407.96 99.8808 1412.57 Q102.959 1417.15 102.959 1425.9 Q102.959 1434.63 99.8808 1439.24 Q96.8252 1443.82 91.0151 1443.82 Q85.2049 1443.82 82.1262 1439.24 Q79.0707 1434.63 79.0707 1425.9 Q79.0707 1417.15 82.1262 1412.57 Q85.2049 1407.96 91.0151 1407.96 Z\" fill=\"#000000\" fill-rule=\"nonzero\" fill-opacity=\"1\" /><path clip-path=\"url(#clip830)\" d=\"M102.959 1402.07 L127.071 1402.07 L127.071 1405.26 L102.959 1405.26 L102.959 1402.07 Z\" fill=\"#000000\" fill-rule=\"nonzero\" fill-opacity=\"1\" /><path clip-path=\"url(#clip830)\" d=\"M146.782 1400.6 Q149.509 1401.18 151.032 1403.02 Q152.574 1404.87 152.574 1407.58 Q152.574 1411.73 149.716 1414.01 Q146.857 1416.28 141.591 1416.28 Q139.823 1416.28 137.942 1415.93 Q136.08 1415.59 134.086 1414.89 L134.086 1411.22 Q135.666 1412.15 137.547 1412.62 Q139.428 1413.09 141.478 1413.09 Q145.051 1413.09 146.913 1411.68 Q148.794 1410.27 148.794 1407.58 Q148.794 1405.09 147.045 1403.7 Q145.315 1402.29 142.211 1402.29 L138.939 1402.29 L138.939 1399.17 L142.362 1399.17 Q145.164 1399.17 146.65 1398.06 Q148.136 1396.93 148.136 1394.82 Q148.136 1392.66 146.593 1391.51 Q145.07 1390.35 142.211 1390.35 Q140.65 1390.35 138.863 1390.69 Q137.077 1391.03 134.933 1391.74 L134.933 1388.35 Q137.096 1387.75 138.976 1387.45 Q140.876 1387.15 142.55 1387.15 Q146.876 1387.15 149.396 1389.13 Q151.916 1391.08 151.916 1394.43 Q151.916 1396.76 150.581 1398.38 Q149.245 1399.98 146.782 1400.6 Z\" fill=\"#000000\" fill-rule=\"nonzero\" fill-opacity=\"1\" /><path clip-path=\"url(#clip830)\" d=\"M81.8687 655.388 L89.5075 655.388 L89.5075 629.023 L81.1974 630.689 L81.1974 626.43 L89.4612 624.764 L94.1371 624.764 L94.1371 655.388 L101.776 655.388 L101.776 659.324 L81.8687 659.324 L81.8687 655.388 Z\" fill=\"#000000\" fill-rule=\"nonzero\" fill-opacity=\"1\" /><path clip-path=\"url(#clip830)\" d=\"M121.22 627.842 Q117.609 627.842 115.781 631.407 Q113.975 634.949 113.975 642.078 Q113.975 649.185 115.781 652.75 Q117.609 656.291 121.22 656.291 Q124.855 656.291 126.66 652.75 Q128.489 649.185 128.489 642.078 Q128.489 634.949 126.66 631.407 Q124.855 627.842 121.22 627.842 M121.22 624.139 Q127.03 624.139 130.086 628.745 Q133.165 633.328 133.165 642.078 Q133.165 650.805 130.086 655.412 Q127.03 659.995 121.22 659.995 Q115.41 659.995 112.331 655.412 Q109.276 650.805 109.276 642.078 Q109.276 633.328 112.331 628.745 Q115.41 624.139 121.22 624.139 Z\" fill=\"#000000\" fill-rule=\"nonzero\" fill-opacity=\"1\" /><path clip-path=\"url(#clip830)\" d=\"M142.87 606.335 Q139.936 606.335 138.45 609.231 Q136.983 612.109 136.983 617.901 Q136.983 623.675 138.45 626.572 Q139.936 629.449 142.87 629.449 Q145.822 629.449 147.289 626.572 Q148.775 623.675 148.775 617.901 Q148.775 612.109 147.289 609.231 Q145.822 606.335 142.87 606.335 M142.87 603.325 Q147.59 603.325 150.073 607.068 Q152.574 610.792 152.574 617.901 Q152.574 624.992 150.073 628.735 Q147.59 632.459 142.87 632.459 Q138.149 632.459 135.647 628.735 Q133.165 624.992 133.165 617.901 Q133.165 610.792 135.647 607.068 Q138.149 603.325 142.87 603.325 Z\" fill=\"#000000\" fill-rule=\"nonzero\" fill-opacity=\"1\" /><polyline clip-path=\"url(#clip832)\" style=\"stroke:#009af9; stroke-linecap:round; stroke-linejoin:round; stroke-width:4; stroke-opacity:1; fill:none\" points=\"249.825,1433.78 260.084,1415.82 270.344,1397.87 280.604,1379.92 290.864,1361.98 301.123,1344.06 311.383,1326.14 321.643,1308.23 331.902,1290.34 342.162,1272.46 352.422,1254.59 362.681,1236.73 372.941,1218.89 383.201,1201.07 393.461,1183.27 403.72,1165.48 413.98,1147.71 424.24,1129.97 434.499,1112.25 444.759,1094.55 455.019,1076.88 465.279,1059.24 475.538,1041.63 485.798,1024.05 496.058,1006.5 506.317,988.993 516.577,971.522 526.837,954.092 537.096,936.706 547.356,919.365 557.616,902.074 567.876,884.834 578.135,867.648 588.395,850.521 598.655,833.454 608.914,816.452 619.174,799.517 629.434,782.654 639.693,765.867 649.953,749.16 660.213,732.536 670.473,716 680.732,699.557 690.992,683.211 701.252,666.968 711.511,650.833 721.771,634.812 732.031,618.91 742.29,603.134 752.55,587.49 762.81,571.986 773.07,556.628 783.329,541.426 793.589,526.387 803.849,511.521 814.108,496.839 824.368,482.349 834.628,468.065 844.887,453.998 855.147,440.162 865.407,426.571 875.667,413.241 885.926,400.189 896.186,387.43 906.446,374.985 916.705,362.873 926.965,351.113 937.225,339.727 947.485,328.733 957.744,318.154 968.004,308.005 978.264,298.304 988.523,289.063 998.783,280.287 1009.04,271.976 1019.3,264.119 1029.56,256.692 1039.82,249.656 1050.08,242.956 1060.34,236.516 1070.6,230.24 1080.86,224.023 1091.12,217.723 1101.38,211.347 1111.64,204.523 1121.9,197.304 1132.16,189.705 1142.42,181.812 1152.68,173.688 1162.94,165.597 1173.2,157.854 1183.46,150.828 1193.72,144.89 1203.98,140.311 1214.24,137.188 1224.5,135.378 1234.76,134.488 1245.02,133.819 1255.28,132.381 1265.54,129.224 1275.79,124.044 1286.05,117.477 1296.31,110.831 1306.57,105.662 1316.83,103.175 1327.09,103.458 1337.35,105.19 1347.61,105.895 1357.87,103.492 1368.13,98.4705 1378.39,93.548 1388.65,91.6803 1398.91,93.1035 1409.17,94.8305 1419.43,93.6274 1429.69,90.0865 1439.95,88.169 1450.21,89.2864 1460.47,90.3809 1470.73,88.9787 1480.99,87.6286 1491.25,88.4971 1501.51,89.1256 1511.77,88.4729 1522.03,88.8353 1532.29,89.672 1542.55,89.8007 1552.81,90.4986 1563.07,91.2895 1573.33,91.9621 1583.59,92.9596 1593.85,93.8938 1604.11,95.0126 1614.37,96.1667 1624.62,97.4384 1634.88,98.7754 1645.14,100.201 1655.4,101.706 1665.66,103.29 1675.92,104.95 1686.18,106.682 1696.44,108.487 1706.7,110.364 1716.96,112.309 1727.22,114.321 1737.48,116.397 1747.74,118.537 1758,120.74 1768.26,123.003 1778.52,125.326 1788.78,127.706 1799.04,130.142 1809.3,132.634 1819.56,135.18 1829.82,137.778 1840.08,140.426 1850.34,143.126 1860.6,145.874 1870.86,148.67 1881.12,151.512 1891.38,154.401 1901.64,157.335 1911.9,160.311 1922.16,163.33 1932.42,166.392 1942.68,169.494 1952.94,172.636 1963.2,175.817 1973.45,179.036 1983.71,182.293 1993.97,185.587 2004.23,188.916 2014.49,192.281 2024.75,195.68 2035.01,199.113 2045.27,202.578 2055.53,206.077 2065.79,209.606 2076.05,213.168 2086.31,216.759 2096.57,220.381 2106.83,224.031 2117.09,227.711 2127.35,231.419 2137.61,235.154 2147.87,238.917 2158.13,242.706 2168.39,246.522 2178.65,250.363 2188.91,254.229 2199.17,258.121 2209.43,262.037 2219.69,265.976 2229.95,269.94 2240.21,273.927 2250.47,277.936 2260.73,281.968 2270.99,286.022 2281.25,290.098 2291.51,294.196 \"/>\n",
       "<path clip-path=\"url(#clip830)\" d=\"M2011.77 198.488 L2280.62 198.488 L2280.62 94.8081 L2011.77 94.8081  Z\" fill=\"#ffffff\" fill-rule=\"evenodd\" fill-opacity=\"1\"/>\n",
       "<polyline clip-path=\"url(#clip830)\" style=\"stroke:#000000; stroke-linecap:round; stroke-linejoin:round; stroke-width:4; stroke-opacity:1; fill:none\" points=\"2011.77,198.488 2280.62,198.488 2280.62,94.8081 2011.77,94.8081 2011.77,198.488 \"/>\n",
       "<polyline clip-path=\"url(#clip830)\" style=\"stroke:#009af9; stroke-linecap:round; stroke-linejoin:round; stroke-width:4; stroke-opacity:1; fill:none\" points=\"2035.81,146.648 2180.09,146.648 \"/>\n",
       "<path clip-path=\"url(#clip830)\" d=\"M2217.98 166.336 Q2216.18 170.965 2214.46 172.377 Q2212.75 173.789 2209.88 173.789 L2206.48 173.789 L2206.48 170.224 L2208.98 170.224 Q2210.74 170.224 2211.71 169.391 Q2212.68 168.558 2213.86 165.456 L2214.63 163.511 L2204.14 138.002 L2208.65 138.002 L2216.76 158.28 L2224.86 138.002 L2229.37 138.002 L2217.98 166.336 Z\" fill=\"#000000\" fill-rule=\"nonzero\" fill-opacity=\"1\" /><path clip-path=\"url(#clip830)\" d=\"M2236.66 159.993 L2244.3 159.993 L2244.3 133.627 L2235.99 135.294 L2235.99 131.035 L2244.26 129.368 L2248.93 129.368 L2248.93 159.993 L2256.57 159.993 L2256.57 163.928 L2236.66 163.928 L2236.66 159.993 Z\" fill=\"#000000\" fill-rule=\"nonzero\" fill-opacity=\"1\" /></svg>\n"
      ]
     },
     "execution_count": 17,
     "metadata": {},
     "output_type": "execute_result"
    }
   ],
   "source": [
    "plot(k, k2_ps.(k), xscale=:log10, yscale=:log10)"
   ]
  },
  {
   "cell_type": "code",
   "execution_count": 18,
   "metadata": {},
   "outputs": [],
   "source": [
    "Cl_gg = zeros(length(brute_ell))\n",
    "\n",
    "for (il, l) in enumerate(brute_ell)\n",
    "    Ig = AkimaInterpolation(G_l_k[il,:], k, extrapolate=true)\n",
    "    integral, error = quadgk(x-> k2_ps(x)*Ig(x)*Ig(x), k[1], k[end])\n",
    "    Cl_gg[il] = integral.*2 ./π.*factor_g(l).*factor_g(l)\n",
    "end\n",
    "\n",
    "npzwrite(\"brute_force/Cl_gg.npy\", Cl_gg)"
   ]
  },
  {
   "cell_type": "code",
   "execution_count": 19,
   "metadata": {},
   "outputs": [],
   "source": [
    "Cl_gs = zeros(length(brute_ell))\n",
    "\n",
    "for (il, l) in enumerate(brute_ell)\n",
    "    Ig = AkimaInterpolation(G_l_k[il,:], k, extrapolate=true)\n",
    "    Is = AkimaInterpolation(S_l_k[il,:], k, extrapolate=true)\n",
    "    integral, error = quadgk(x-> k2_ps(x)*Ig(x)*Is(x), k[1], k[end])\n",
    "    Cl_gs[il] = integral.*2 ./π.*factor_g(l).*factor_s(l)\n",
    "end\n",
    "\n",
    "npzwrite(\"brute_force/Cl_gs.npy\", Cl_gs)"
   ]
  },
  {
   "cell_type": "code",
   "execution_count": 20,
   "metadata": {},
   "outputs": [],
   "source": [
    "Cl_ss = zeros(length(brute_ell))\n",
    "\n",
    "for (il, l) in enumerate(brute_ell)\n",
    "    Is = AkimaInterpolation(S_l_k[il,:], k, extrapolate=true)\n",
    "    integral, error = quadgk(x-> k2_ps(x)*Is(x)*Is(x), k[1], k[end])\n",
    "    Cl_ss[il] = integral.*2 ./π.*factor_s(l).*factor_s(l)\n",
    "end\n",
    "\n",
    "npzwrite(\"brute_force/Cl_ss.npy\", Cl_ss)"
   ]
  },
  {
   "cell_type": "code",
   "execution_count": 21,
   "metadata": {},
   "outputs": [],
   "source": [
    "Cl_gk = zeros(length(brute_ell))\n",
    "\n",
    "for (il, l) in enumerate(brute_ell)\n",
    "    Ig = AkimaInterpolation(G_l_k[il,:], k, extrapolate=true)\n",
    "    Ik = AkimaInterpolation(CMB_l_k[il,:], k, extrapolate=true)\n",
    "    integral, error = quadgk(x-> k2_ps(x)*Ig(x)*Ik(x), k[1], k[end])\n",
    "    Cl_gk[il] = integral.*2 ./π.*factor_g(l).*factor_cmb(l)\n",
    "end\n",
    "\n",
    "npzwrite(\"brute_force/Cl_gk.npy\", Cl_gk)"
   ]
  },
  {
   "cell_type": "code",
   "execution_count": 22,
   "metadata": {},
   "outputs": [],
   "source": [
    "Cl_sk = zeros(length(brute_ell))\n",
    "\n",
    "for (il, l) in enumerate(brute_ell)\n",
    "    Is = AkimaInterpolation(S_l_k[il,:], k, extrapolate=true)\n",
    "    Ik = AkimaInterpolation(CMB_l_k[il,:], k, extrapolate=true)\n",
    "    integral, error = quadgk(x-> k2_ps(x)*Is(x)*Ik(x), k[1], k[end])\n",
    "    Cl_sk[il] = integral.*2 ./π.*factor_s(l).*factor_cmb(l)\n",
    "end\n",
    "\n",
    "npzwrite(\"brute_force/Cl_sk.npy\", Cl_sk)"
   ]
  },
  {
   "cell_type": "markdown",
   "metadata": {},
   "source": [
    "## "
   ]
  }
 ],
 "metadata": {
  "kernelspec": {
   "display_name": "Julia 80 Threads 1.11.2",
   "language": "julia",
   "name": "julia-80-threads-1.11"
  },
  "language_info": {
   "file_extension": ".jl",
   "mimetype": "application/julia",
   "name": "julia",
   "version": "1.11.2"
  }
 },
 "nbformat": 4,
 "nbformat_minor": 4
}
